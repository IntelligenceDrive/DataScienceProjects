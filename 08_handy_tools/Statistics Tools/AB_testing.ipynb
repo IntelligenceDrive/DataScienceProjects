{
 "cells": [
  {
   "cell_type": "markdown",
   "id": "b99aebad",
   "metadata": {},
   "source": [
    "#https://nancyyanyu.github.io/posts/17c5bb19/"
   ]
  },
  {
   "cell_type": "code",
   "execution_count": 2,
   "id": "0167e1d0",
   "metadata": {},
   "outputs": [
    {
     "data": {
      "text/plain": [
       "(0.020210500108079642, 0.03764644797215575)"
      ]
     },
     "execution_count": 2,
     "metadata": {},
     "output_type": "execute_result"
    }
   ],
   "source": [
    "import math\n",
    "\n",
    "N_cont = 10072  # Control samples (pageviews)\n",
    "N_exp = 9886  # Test samples (pageviews)\n",
    "X_cont = 974  # Control clicks\n",
    "X_exp = 1242  # Exp. clicks\n",
    "\n",
    "p_pool = (X_cont + X_exp)/(N_cont+N_exp)\n",
    "se_pool = math.sqrt(p_pool*(1-p_pool)*(1/N_cont + 1/N_exp))\n",
    "\n",
    "p_cont = X_cont/N_cont\n",
    "p_exp = X_exp/N_exp\n",
    "d_hat = p_exp - p_cont\n",
    "# d_hat = 0.02892847\n",
    "\n",
    "m = 1.96*se_pool\n",
    "cf_min = d_hat-m\n",
    "cf_max = d_hat+m\n",
    "d_min = 0.02 # Minimum practical significance value for difference\n",
    "\n",
    "cf_min,cf_max\n",
    "\n",
    "# cf_min = 0.0202105\n",
    "# cf_max = 0.03764645"
   ]
  },
  {
   "cell_type": "code",
   "execution_count": 3,
   "id": "3788fe24",
   "metadata": {},
   "outputs": [
    {
     "data": {
      "text/plain": [
       "(79157.54332794028, 104367.02810063114)"
      ]
     },
     "execution_count": 3,
     "metadata": {},
     "output_type": "execute_result"
    }
   ],
   "source": [
    "import math\n",
    "N= [87029, 113407, 84843, 104994, 99327, 92052, 60684]\n",
    "N_mean=sum(N)/len(N)\n",
    "N_std=math.sqrt(sum([(n-N_mean)**2 for n in N])/(len(N)-1))\n",
    "SE=N_std/math.sqrt(len(N))\n",
    "\n",
    "cf_min,cf_max=N_mean-SE*1.96,N_mean+SE*1.96\n",
    "cf_min,cf_max"
   ]
  },
  {
   "cell_type": "code",
   "execution_count": 4,
   "id": "3ad6fdb4",
   "metadata": {},
   "outputs": [
    {
     "data": {
      "text/plain": [
       "(-0.06702773846019527, 0.07552773846019528)"
      ]
     },
     "execution_count": 4,
     "metadata": {},
     "output_type": "execute_result"
    }
   ],
   "source": [
    "import math\n",
    "group1=[0.02, 0.11, 0.14, 0.05, 0.09, 0.11, 0.09, 0.1 , 0.14, 0.08, 0.09,\n",
    "       0.08, 0.09, 0.08, 0.12, 0.09, 0.16, 0.11, 0.12, 0.11, 0.06, 0.11,\n",
    "       0.13, 0.1 , 0.08, 0.14, 0.1 , 0.08, 0.12, 0.09, 0.14, 0.1 , 0.08,\n",
    "       0.08, 0.07, 0.13, 0.11, 0.08, 0.1 , 0.11]\n",
    "group2=[0.07, 0.11, 0.05, 0.07, 0.1 , 0.07, 0.1 , 0.1 , 0.12, 0.14, 0.04,\n",
    "       0.07, 0.07, 0.06, 0.15, 0.09, 0.12, 0.1 , 0.08, 0.09, 0.08, 0.08,\n",
    "       0.14, 0.09, 0.1 , 0.08, 0.08, 0.09, 0.08, 0.11, 0.11, 0.1 , 0.14,\n",
    "       0.1 , 0.08, 0.05, 0.19, 0.11, 0.08, 0.13]\n",
    "confidence_level=0.95\n",
    "\n",
    "# assume metric is normally distributed\n",
    "difference=[i-j for i,j in zip(group1,group2)]\n",
    "mean=sum(difference)/len(difference)\n",
    "SD=math.sqrt(sum([(i-mean)**2 for i in difference ])/(len(difference)-1))\n",
    "# m=SD*z-score\n",
    "m=SD*1.96\n",
    "ci_max=mean+m\n",
    "ci_min=mean-m\n",
    "\n",
    "ci_min,ci_max"
   ]
  },
  {
   "cell_type": "code",
   "execution_count": 5,
   "id": "64c09dd1",
   "metadata": {},
   "outputs": [
    {
     "data": {
      "text/plain": [
       "(-0.06000000000000001, 0.08)"
      ]
     },
     "execution_count": 5,
     "metadata": {},
     "output_type": "execute_result"
    }
   ],
   "source": [
    "# no assumption of metric distribution\n",
    "difference=sorted(difference)\n",
    "ci_min,ci_max=difference[1],difference[-2]\n",
    "\n",
    "ci_min,ci_max"
   ]
  },
  {
   "cell_type": "code",
   "execution_count": 6,
   "id": "1eabf779",
   "metadata": {},
   "outputs": [
    {
     "data": {
      "text/plain": [
       "(0.00825068746366646, 0.012394485165776618)"
      ]
     },
     "execution_count": 6,
     "metadata": {},
     "output_type": "execute_result"
    }
   ],
   "source": [
    "#    Filtering could also affect variability\n",
    "# New Zealand\n",
    "N_cont = 6021\n",
    "X_cont = 302\n",
    "N_exp = 5979\n",
    "X_exp = 374\n",
    "\n",
    "p_cont=X_cont/N_cont\n",
    "p_exp=X_exp/N_exp\n",
    "p_pool=(X_cont+X_exp)/(N_cont+N_exp)\n",
    "SE=math.sqrt((p_pool*(1-p_pool)*(1/N_cont+1/N_exp)))\n",
    "d_hat=p_exp-p_cont\n",
    "m=1.96*SE\n",
    "m,d_hat\n",
    "#(0.00825068746366646, 0.012394485165776618)"
   ]
  },
  {
   "cell_type": "code",
   "execution_count": 7,
   "id": "a0dd4d27",
   "metadata": {},
   "outputs": [
    {
     "data": {
      "text/plain": [
       "(0.0025691881506085417, 0.0013237234004343165)"
      ]
     },
     "execution_count": 7,
     "metadata": {},
     "output_type": "execute_result"
    }
   ],
   "source": [
    "# Global\n",
    "N_cont = 50000 + 6021\n",
    "X_cont = 2500 + 302\n",
    "N_exp = 50000 + 5979\n",
    "X_exp = 2500 + 374\n",
    "\n",
    "p_cont=X_cont/N_cont\n",
    "p_exp=X_exp/N_exp\n",
    "p_pool=(X_cont+X_exp)/(N_cont+N_exp)\n",
    "SE=math.sqrt((p_pool*(1-p_pool)*(1/N_cont+1/N_exp)))\n",
    "d_hat=p_exp-p_cont\n",
    "m=1.96*SE\n",
    "m,d_hat"
   ]
  },
  {
   "cell_type": "code",
   "execution_count": 8,
   "id": "10ab4e24",
   "metadata": {},
   "outputs": [
    {
     "data": {
      "text/plain": [
       "(0.006465853496236934, 0.016736185710796242)"
      ]
     },
     "execution_count": 8,
     "metadata": {},
     "output_type": "execute_result"
    }
   ],
   "source": [
    "#Effect size:\n",
    "Xs_cont = [196, 200, 200, 216, 212, 185, 225, 187, 205, 211, 192, 196, 223, 192]\n",
    "Ns_cont = [2029, 1991, 1951, 1985, 1973, 2021, 2041, 1980, 1951, 1988, 1977, 2019, 2035, 2007]\n",
    "Xs_exp = [179, 208, 205, 175, 191, 291, 278, 216, 225, 207, 205, 200, 297, 299]\n",
    "Ns_exp = [1971, 2009, 2049, 2015, 2027, 1979, 1959, 2020, 2049, 2012, 2023, 1981, 1965, 1993]\n",
    "SE_emp=0.0062\n",
    "Ns_emp=5000\n",
    "SE=SE_emp/math.sqrt(1/Ns_emp+1/Ns_emp)*math.sqrt(1/sum(Ns_cont)+1/sum(Ns_exp))\n",
    "d_hat=sum(Xs_exp)/sum(Ns_exp)-sum(Xs_cont)/sum(Ns_cont)\n",
    "m=1.96*SE\n",
    "ci_min,ci_max=d_hat-m,d_hat+m\n",
    "ci_min,ci_max"
   ]
  },
  {
   "cell_type": "code",
   "execution_count": 9,
   "id": "02b8315c",
   "metadata": {},
   "outputs": [
    {
     "data": {
      "text/plain": [
       "(14, 9)"
      ]
     },
     "execution_count": 9,
     "metadata": {},
     "output_type": "execute_result"
    }
   ],
   "source": [
    "#     Sign test:\n",
    "\n",
    "ctr_cont=[i/j for i,j in zip(Xs_cont,Ns_cont)]\n",
    "ctr_exp=[i/j for i,j in zip(Xs_exp,Ns_exp)]\n",
    "\n",
    "days=len(Xs_cont)\n",
    "positive_days=sum([exp>cont for exp,cont in zip(ctr_exp,ctr_cont)])\n",
    "days,positive_days"
   ]
  },
  {
   "cell_type": "code",
   "execution_count": 10,
   "id": "eb452f78",
   "metadata": {},
   "outputs": [],
   "source": [
    "# The two-tail P value is 0.4240. Since p-value is larger than alpha, it's not significant."
   ]
  },
  {
   "cell_type": "code",
   "execution_count": null,
   "id": "605a4c28",
   "metadata": {},
   "outputs": [],
   "source": []
  }
 ],
 "metadata": {
  "kernelspec": {
   "display_name": "Python 3",
   "language": "python",
   "name": "python3"
  },
  "language_info": {
   "codemirror_mode": {
    "name": "ipython",
    "version": 3
   },
   "file_extension": ".py",
   "mimetype": "text/x-python",
   "name": "python",
   "nbconvert_exporter": "python",
   "pygments_lexer": "ipython3",
   "version": "3.7.11"
  }
 },
 "nbformat": 4,
 "nbformat_minor": 5
}
