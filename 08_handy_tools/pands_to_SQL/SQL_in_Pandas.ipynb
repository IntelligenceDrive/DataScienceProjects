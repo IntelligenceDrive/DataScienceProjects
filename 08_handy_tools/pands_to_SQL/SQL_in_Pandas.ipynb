{
 "cells": [
  {
   "cell_type": "markdown",
   "id": "14045780",
   "metadata": {},
   "source": [
    "https://medium.com/jbennetcodes/how-to-rewrite-your-sql-queries-in-pandas-and-more-149d341fc53e"
   ]
  },
  {
   "cell_type": "code",
   "execution_count": null,
   "id": "f197ba31",
   "metadata": {},
   "outputs": [],
   "source": [
    "import pandas as pd\n",
    "\n",
    "airports = pd.read_csv('data/airports.csv')\n",
    "airport_freq = pd.read_csv('data/airport-frequencies.csv')\n",
    "runways = pd.read_csv('data/runways.csv')"
   ]
  },
  {
   "cell_type": "markdown",
   "id": "90514b70",
   "metadata": {},
   "source": [
    "# SELECT, WHERE, DISTINCT, LIMIT"
   ]
  },
  {
   "cell_type": "code",
   "execution_count": null,
   "id": "50b0f213",
   "metadata": {},
   "outputs": [],
   "source": [
    "# select * from airports\n",
    "airports"
   ]
  },
  {
   "cell_type": "code",
   "execution_count": null,
   "id": "d669d393",
   "metadata": {},
   "outputs": [],
   "source": [
    "#select * from airports limit 3\n",
    "airports.head(3)"
   ]
  },
  {
   "cell_type": "code",
   "execution_count": null,
   "id": "ed9f900a",
   "metadata": {},
   "outputs": [],
   "source": [
    "#select id from airports where ident = 'KLAX'\n",
    "airports[airports.ident == 'KLAX'].id"
   ]
  },
  {
   "cell_type": "code",
   "execution_count": null,
   "id": "49e3c8ec",
   "metadata": {},
   "outputs": [],
   "source": [
    "#select distinct type from airport\n",
    "airports.type.unique()"
   ]
  },
  {
   "cell_type": "code",
   "execution_count": null,
   "id": "96c7ed39",
   "metadata": {},
   "outputs": [],
   "source": [
    "### SELECT with multiple conditions\n",
    "# select * from airports where iso_region = 'US-CA' and type = 'seaplane_base'\n",
    "\n",
    "airports[(airports.iso_region == 'US-CA') & (airports.type == 'seaplane_base')]\n"
   ]
  },
  {
   "cell_type": "code",
   "execution_count": null,
   "id": "cf11aee6",
   "metadata": {},
   "outputs": [],
   "source": [
    "# select ident, name, municipality from airports where iso_region = 'US-CA' and type = 'large_airport'\n",
    "\n",
    "airports[(airports.iso_region == 'US-CA') & (airports.type == 'large_airport')][['ident', 'name', 'municipality']]"
   ]
  },
  {
   "cell_type": "markdown",
   "id": "cd61594d",
   "metadata": {},
   "source": [
    "#  ORDER BY"
   ]
  },
  {
   "cell_type": "code",
   "execution_count": null,
   "id": "d241b796",
   "metadata": {},
   "outputs": [],
   "source": [
    "# select * from airport_freq where airport_ident = 'KLAX' order by type\n",
    "\n",
    "airport_freq[airport_freq.airport_ident=='KLAX'].sort_values('type')"
   ]
  },
  {
   "cell_type": "code",
   "execution_count": null,
   "id": "b22ed732",
   "metadata": {},
   "outputs": [],
   "source": [
    "# select * from airport_freq where airport_ident = 'KLAX' order by type desc\n",
    "\n",
    "airport_freq[airport_freq.airport_ident=='KLAX'].sort_values('type', ascending=False)"
   ]
  },
  {
   "cell_type": "markdown",
   "id": "859863d3",
   "metadata": {},
   "source": [
    "# IN… NOT IN"
   ]
  },
  {
   "cell_type": "code",
   "execution_count": null,
   "id": "318e3587",
   "metadata": {},
   "outputs": [],
   "source": [
    "# select * from airports where type in ('heliport', 'balloonport')\n",
    "airports[airports.type.isin(['heliport', 'balloonport'])]"
   ]
  },
  {
   "cell_type": "code",
   "execution_count": null,
   "id": "d8518268",
   "metadata": {},
   "outputs": [],
   "source": [
    "# select * from airports where type not in ('heliport', 'balloonport')\n",
    "\n",
    "airports[~airports.type.isin(['heliport', 'balloonport'])]"
   ]
  },
  {
   "cell_type": "markdown",
   "id": "ae809763",
   "metadata": {},
   "source": [
    "# GROUP BY, COUNT, ORDER BY\n",
    "\n",
    "Grouping is straightforward: use the .groupby() operator. There’s a subtle difference between semantics of a COUNT in SQL and Pandas. In Pandas, .count() will return the number of non-null/NaN values. To get the same result as the SQL COUNT, use .size().\n",
    "\n",
    "SQL count:  COUNT(*) = 4;                        -- count all rows, even null/duplicates\n",
    "\n",
    "            COUNT(Field1) = COUNT(Field2) = 3;   -- count only rows without null values on that field\n",
    "            \n",
    "pandas.count(): Count non-NA cells for each column or row"
   ]
  },
  {
   "cell_type": "code",
   "execution_count": null,
   "id": "a1f4934d",
   "metadata": {},
   "outputs": [],
   "source": [
    "# select iso_country, type, count(*) from airports group by iso_country, type order by iso_country, type\n",
    "\n",
    "airports.groupby(['iso_country', 'type']).size()\n"
   ]
  },
  {
   "cell_type": "code",
   "execution_count": null,
   "id": "6aa46ecb",
   "metadata": {},
   "outputs": [],
   "source": [
    "airports.groupby(['iso_country', 'type']).count()"
   ]
  },
  {
   "cell_type": "code",
   "execution_count": null,
   "id": "faf64819",
   "metadata": {},
   "outputs": [],
   "source": [
    "# select iso_country, type, count(*) from airports group by iso_country, type order by iso_country, count(*) desc\n",
    "airports.groupby(['iso_country', 'type']).size().to_frame('size').reset_index().sort_values(['iso_country', 'size'], ascending=[True, False])"
   ]
  },
  {
   "cell_type": "markdown",
   "id": "7c596ebd",
   "metadata": {},
   "source": [
    "# HAVING\n",
    "In SQL, you can additionally filter grouped data using a HAVING condition. In Pandas, you can use .filter() and provide a Python function (or a lambda) that will return True if the group should be included into the result."
   ]
  },
  {
   "cell_type": "markdown",
   "id": "92f6cf97",
   "metadata": {},
   "source": [
    "select type, count(*) from airports where iso_country = 'US' group by type having count(*) > 1000 order by count(*) desc"
   ]
  },
  {
   "cell_type": "code",
   "execution_count": null,
   "id": "83a8b9cd",
   "metadata": {},
   "outputs": [],
   "source": [
    "airports[airports.iso_country == 'US'].groupby('type').filter(lambda g: len(g) > 1000).groupby('type').size().sort_values(ascending=False)"
   ]
  },
  {
   "cell_type": "markdown",
   "id": "d46f2c4b",
   "metadata": {},
   "source": [
    "# Top N records"
   ]
  },
  {
   "cell_type": "code",
   "execution_count": null,
   "id": "2dfd01fe",
   "metadata": {},
   "outputs": [],
   "source": [
    "by_country=airports.groupby('iso_country').size().to_frame('airport_count').reset_index().sort_values('iso_country')"
   ]
  },
  {
   "cell_type": "code",
   "execution_count": null,
   "id": "21da903c",
   "metadata": {},
   "outputs": [],
   "source": [
    "by_country.head(3)"
   ]
  },
  {
   "cell_type": "markdown",
   "id": "6833b40f",
   "metadata": {},
   "source": [
    "In the next example, we order things by airport_count and only select the top 10 countries with the largest count. Second example is the more complicated case, in which we want “the next 10 after the top 10”:"
   ]
  },
  {
   "cell_type": "code",
   "execution_count": null,
   "id": "f766af91",
   "metadata": {},
   "outputs": [],
   "source": [
    "# select iso_country from by_country order by size desc limit 10\n",
    "\n",
    "by_country.nlargest(10, columns='airport_count')\n"
   ]
  },
  {
   "cell_type": "code",
   "execution_count": null,
   "id": "0bba7d98",
   "metadata": {},
   "outputs": [],
   "source": [
    "# select iso_country from by_country order by size desc limit 10 offset 10\n",
    "\n",
    "by_country.nlargest(20, columns='airport_count').tail(10)\n"
   ]
  },
  {
   "cell_type": "markdown",
   "id": "c311b55e",
   "metadata": {},
   "source": [
    "# Aggregate functions (MIN, MAX, MEAN)"
   ]
  },
  {
   "cell_type": "code",
   "execution_count": null,
   "id": "cc597b89",
   "metadata": {},
   "outputs": [],
   "source": [
    "runways.head(3)"
   ]
  },
  {
   "cell_type": "code",
   "execution_count": null,
   "id": "0688be5d",
   "metadata": {},
   "outputs": [],
   "source": [
    "#select max(length_ft), min(length_ft), avg(length_ft), median(length_ft) from runways\n",
    "\n",
    "df=runways.agg({'length_ft': ['min', 'max', 'mean', 'median']})\n",
    "df.T"
   ]
  },
  {
   "cell_type": "markdown",
   "id": "b72ed38b",
   "metadata": {},
   "source": [
    "# JOIN"
   ]
  },
  {
   "cell_type": "markdown",
   "id": "907b89ef",
   "metadata": {},
   "source": [
    "select airport_ident, type, description, frequency_mhz \n",
    "from airport_freq \n",
    "join airports \n",
    "on airport_freq.airport_ref = airports.id \n",
    "where airports.ident = 'KLAX'"
   ]
  },
  {
   "cell_type": "code",
   "execution_count": null,
   "id": "dff0629a",
   "metadata": {},
   "outputs": [],
   "source": [
    "airport_freq.merge(airports[airports.ident == 'KLAX'][['id']], left_on='airport_ref', right_on='id', how='inner')[['airport_ref','airport_ident', 'type', 'description', 'frequency_mhz']]"
   ]
  },
  {
   "cell_type": "code",
   "execution_count": null,
   "id": "dd1f97e4",
   "metadata": {},
   "outputs": [],
   "source": [
    "airport_freq.merge(airports[airports['ident'] == 'KLAX'][['id']], left_on='airport_ref', right_on='id', how='inner')\n"
   ]
  },
  {
   "cell_type": "code",
   "execution_count": null,
   "id": "51ddff4d",
   "metadata": {},
   "outputs": [],
   "source": [
    "airport_freq.merge(airports[airports.ident == 'KLAX'], left_on='airport_ref', right_on='id', how='inner')"
   ]
  },
  {
   "cell_type": "code",
   "execution_count": null,
   "id": "75a0dd81",
   "metadata": {},
   "outputs": [],
   "source": [
    "airports[airports.ident == 'KLAX'][['id']]"
   ]
  },
  {
   "cell_type": "markdown",
   "id": "3e6f5623",
   "metadata": {},
   "source": [
    "# UNION ALL and UNION\n",
    "Use pd.concat() to UNION ALL two dataframes\n",
    "\n",
    "\n",
    "To deduplicate things (equivalent of UNION), you’d also have to add .drop_duplicates()\n"
   ]
  },
  {
   "cell_type": "markdown",
   "id": "8b2d8b3e",
   "metadata": {},
   "source": [
    "select name, municipality \n",
    "from airports \n",
    "where ident = 'KLAX' \n",
    "union all \n",
    "\n",
    "select name, municipality \n",
    "from airports \n",
    "where ident = 'KLGB'"
   ]
  },
  {
   "cell_type": "code",
   "execution_count": null,
   "id": "d277bbd7",
   "metadata": {},
   "outputs": [],
   "source": [
    "pd.concat([airports[airports.ident == 'KLAX'][['name', 'municipality']], airports[airports.ident == 'KLGB'][['name', 'municipality']]])"
   ]
  },
  {
   "cell_type": "markdown",
   "id": "2a64cbde",
   "metadata": {},
   "source": [
    "# INSERT"
   ]
  },
  {
   "cell_type": "markdown",
   "id": "5f5f9d69",
   "metadata": {},
   "source": [
    "create table heroes (id integer, name text);\n",
    "insert into heroes values (1, 'Harry Potter');\n",
    "insert into heroes values (2, 'Ron Weasley');\n",
    "insert into heroes values (3, 'Hermione Granger');"
   ]
  },
  {
   "cell_type": "code",
   "execution_count": null,
   "id": "15701954",
   "metadata": {},
   "outputs": [],
   "source": [
    "df1 = pd.DataFrame({'id': [1, 2], 'name': ['Harry Potter', 'Ron Weasley']})\n",
    "df1"
   ]
  },
  {
   "cell_type": "code",
   "execution_count": null,
   "id": "213169a2",
   "metadata": {},
   "outputs": [],
   "source": [
    "df2 = pd.DataFrame({'id': [3], 'name': ['Hermione Granger']})\n",
    "df2"
   ]
  },
  {
   "cell_type": "code",
   "execution_count": null,
   "id": "1e9bd9e0",
   "metadata": {},
   "outputs": [],
   "source": [
    "pd.concat([df1, df2]).reset_index(drop=True)"
   ]
  },
  {
   "cell_type": "code",
   "execution_count": null,
   "id": "c6d23fda",
   "metadata": {},
   "outputs": [],
   "source": [
    "pd.concat([df1, df2]).reset_index(drop=False)"
   ]
  },
  {
   "cell_type": "code",
   "execution_count": null,
   "id": "5f0134b9",
   "metadata": {},
   "outputs": [],
   "source": [
    "# Update"
   ]
  },
  {
   "cell_type": "markdown",
   "id": "30cb26bc",
   "metadata": {},
   "source": [
    "update airports set home_link = 'http://www.lawa.org/welcomelax.aspx' where ident == 'KLAX'"
   ]
  },
  {
   "cell_type": "code",
   "execution_count": null,
   "id": "166b66c8",
   "metadata": {},
   "outputs": [],
   "source": [
    "airports.loc[airports['ident'] == 'KLAX', 'home_link'] = 'http://www.lawa.org/welcomelax.aspx'"
   ]
  },
  {
   "cell_type": "code",
   "execution_count": null,
   "id": "b8975161",
   "metadata": {},
   "outputs": [],
   "source": [
    "airports.loc[airports['ident'] == 'KLAX']"
   ]
  },
  {
   "cell_type": "markdown",
   "id": "8c817b2a",
   "metadata": {},
   "source": [
    "# DELETE\n",
    "The easiest (and the most readable) way to “delete” things from a Pandas dataframe is to subset the dataframe to rows you want to keep. Alternatively, you can get the indices of rows to delete, and .drop() rows using those indices"
   ]
  },
  {
   "cell_type": "markdown",
   "id": "22a5efea",
   "metadata": {},
   "source": [
    "delete from lax_freq where type = 'MISC'"
   ]
  },
  {
   "cell_type": "code",
   "execution_count": null,
   "id": "f967209a",
   "metadata": {},
   "outputs": [],
   "source": [
    "lax_freq = lax_freq[lax_freq.type != 'MISC']"
   ]
  },
  {
   "cell_type": "code",
   "execution_count": null,
   "id": "38a12e5e",
   "metadata": {},
   "outputs": [],
   "source": [
    "lax_freq.drop(lax_freq[lax_freq.type == 'MISC'].index)"
   ]
  },
  {
   "cell_type": "markdown",
   "id": "3da7405f",
   "metadata": {},
   "source": [
    "# Immutability\n",
    "\n",
    "I need to mention one important thing — immutability. By default, most operators applied to a Pandas dataframe return a new object. Some operators accept a parameter inplace=True, so you can work with the original dataframe instead. For example, here is how you would reset an index in-place:"
   ]
  },
  {
   "cell_type": "code",
   "execution_count": null,
   "id": "11c02796",
   "metadata": {},
   "outputs": [],
   "source": [
    "df.reset_index(drop=True, inplace=True)"
   ]
  },
  {
   "cell_type": "markdown",
   "id": "3126f62b",
   "metadata": {},
   "source": [
    "However, the .loc operator in the UPDATE example above simply locates indices of records to updates, and the values are changed in-place. Also, if you updated all values in a column:"
   ]
  },
  {
   "cell_type": "code",
   "execution_count": null,
   "id": "aa023c21",
   "metadata": {},
   "outputs": [],
   "source": [
    "df['url'] = 'http://google.com'"
   ]
  },
  {
   "cell_type": "markdown",
   "id": "333c50b4",
   "metadata": {},
   "source": [
    "or added a new calculated column, these things would happen in-place."
   ]
  },
  {
   "cell_type": "code",
   "execution_count": null,
   "id": "c174ec02",
   "metadata": {},
   "outputs": [],
   "source": [
    "df['total_cost'] = df['price'] * df['quantity']"
   ]
  },
  {
   "cell_type": "markdown",
   "id": "40c9ca51",
   "metadata": {},
   "source": [
    "# And More"
   ]
  },
  {
   "cell_type": "code",
   "execution_count": null,
   "id": "316bc3ae",
   "metadata": {},
   "outputs": [],
   "source": [
    "df.to_csv(...)  # csv file\n",
    "df.to_hdf(...)  # HDF5 file\n",
    "df.to_pickle(...)  # serialized object\n",
    "df.to_sql(...)  # to SQL database\n",
    "df.to_excel(...)  # to Excel sheet\n",
    "df.to_json(...)  # to JSON string\n",
    "df.to_html(...)  # render as HTML table\n",
    "df.to_feather(...)  # binary feather-format\n",
    "df.to_latex(...)  # tabular environment table\n",
    "df.to_stata(...)  # Stata binary data files\n",
    "df.to_msgpack(...)\t# msgpack (serialize) object\n",
    "df.to_gbq(...)  # to a Google BigQuery table.\n",
    "df.to_string(...)  # console-friendly tabular output.\n",
    "df.to_clipboard(...) # clipboard that can be pasted into Excel"
   ]
  },
  {
   "cell_type": "code",
   "execution_count": null,
   "id": "924c9141",
   "metadata": {},
   "outputs": [],
   "source": [
    "top_10.plot(\n",
    "    x='iso_country', \n",
    "    y='airport_count',\n",
    "    kind='barh',\n",
    "    figsize=(10, 7),\n",
    "    title='Top 10 countries with most airports')"
   ]
  }
 ],
 "metadata": {
  "kernelspec": {
   "display_name": "Python 3",
   "language": "python",
   "name": "python3"
  },
  "language_info": {
   "codemirror_mode": {
    "name": "ipython",
    "version": 3
   },
   "file_extension": ".py",
   "mimetype": "text/x-python",
   "name": "python",
   "nbconvert_exporter": "python",
   "pygments_lexer": "ipython3",
   "version": "3.7.11"
  }
 },
 "nbformat": 4,
 "nbformat_minor": 5
}
